{
 "cells": [
  {
   "cell_type": "code",
   "execution_count": 110,
   "id": "433e12f8-67a6-4e18-8743-956f5dddf103",
   "metadata": {},
   "outputs": [],
   "source": [
    "from Bio import SeqIO\n",
    "from Bio.Seq import Seq"
   ]
  },
  {
   "cell_type": "code",
   "execution_count": 111,
   "id": "864bcd13-a646-41f7-97d4-65f1be87f0ba",
   "metadata": {},
   "outputs": [],
   "source": [
    "gff_file = '../20z_genome_files/20z.gff'\n",
    "full_genome = '../20z_genome_files/20z.fasta'\n",
    "transcriptome = './20z_cds.fasta'"
   ]
  },
  {
   "cell_type": "code",
   "execution_count": 112,
   "id": "7fa92704-6131-4c6b-92ea-0f2a578dc3ac",
   "metadata": {},
   "outputs": [],
   "source": [
    "def get_nt_seq(start, end, direction):\n",
    "    record = SeqIO.read(full_genome,'fasta')\n",
    "    nt_seq = record.seq[start-1:end]\n",
    "    if direction == '-':\n",
    "        nt_seq = nt_seq.reverse_complement()\n",
    "    return nt_seq"
   ]
  },
  {
   "cell_type": "code",
   "execution_count": 117,
   "id": "e4ebf579-e58c-407d-bff9-2531fcf0b195",
   "metadata": {},
   "outputs": [],
   "source": [
    "tRNA_dict = {}\n",
    "rRNA_dict = {}\n",
    "update_file = open(transcriptome, 'a')\n",
    "with open(gff_file, 'r') as f:\n",
    "    for line in f:\n",
    "        if '\\trRNA\\t' in line:\n",
    "            loci_idx_s = line.index('locus_tag=')\n",
    "            loci_idx_e = line.index(';product')\n",
    "            rRNA_loci = line[loci_idx_s+10:loci_idx_e]\n",
    "            rRNA_product = line[loci_idx_e+9:-1]\n",
    "\n",
    "            beg_idx = line.index('rRNA\\t')\n",
    "            end_idx = line.index('\\t.')\n",
    "            loc = line[beg_idx+5:end_idx]\n",
    "            loc = loc.split('\\t')\n",
    "            direction = ''\n",
    "            if '+' in line:\n",
    "                direction = '+'\n",
    "            else:\n",
    "                direction = '-'\n",
    "            \n",
    "            fasta_header = '>{} | Product: {} | Location: {}...{} | Direction: {}'.format(rRNA_loci, rRNA_product, loc[0], loc[1], direction)\n",
    "            nt_seq = get_nt_seq(int(loc[0]), int(loc[1]), direction)\n",
    "            \n",
    "            update_file.write(fasta_header + '\\n' + str(nt_seq) + '\\n')\n",
    "        if '\\ttRNA\\t' in line:\n",
    "            loci_idx_s = line.index('locus_tag=')\n",
    "            loci_idx_e = line.index(';product')\n",
    "            tRNA_loci = line[loci_idx_s+10:loci_idx_e]\n",
    "            tRNA_product = line[loci_idx_e+9:-1]\n",
    "\n",
    "            beg_idx = line.index('tRNA\\t')\n",
    "            end_idx = line.index('\\t.')\n",
    "            loc = line[beg_idx+5:end_idx]\n",
    "            loc = loc.split('\\t')\n",
    "            direction = ''\n",
    "            if '+' in line:\n",
    "                direction = '+'\n",
    "            else:\n",
    "                direction = '-'\n",
    "            \n",
    "            fasta_header = '>{} | Product: {} | Location: {}...{} | Direction: {}'.format(tRNA_loci, tRNA_product, loc[0], loc[1], direction)\n",
    "            nt_seq = get_nt_seq(int(loc[0]), int(loc[1]), direction)\n",
    "            update_file.write(fasta_header + '\\n' + str(nt_seq) + '\\n')\n",
    "update_file.close()"
   ]
  },
  {
   "cell_type": "code",
   "execution_count": null,
   "id": "1524f841-5b8b-4815-b59b-e6257ba19e01",
   "metadata": {},
   "outputs": [],
   "source": [
    " "
   ]
  }
 ],
 "metadata": {
  "kernelspec": {
   "display_name": "pandas",
   "language": "python",
   "name": "pandas"
  },
  "language_info": {
   "codemirror_mode": {
    "name": "ipython",
    "version": 3
   },
   "file_extension": ".py",
   "mimetype": "text/x-python",
   "name": "python",
   "nbconvert_exporter": "python",
   "pygments_lexer": "ipython3",
   "version": "3.10.9"
  }
 },
 "nbformat": 4,
 "nbformat_minor": 5
}
