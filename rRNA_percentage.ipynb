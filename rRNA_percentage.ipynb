{
 "cells": [
  {
   "cell_type": "code",
   "execution_count": 1,
   "id": "19371288-f810-4e10-961b-8896f45a0400",
   "metadata": {},
   "outputs": [],
   "source": [
    "import pandas as pd\n",
    "import os"
   ]
  },
  {
   "cell_type": "code",
   "execution_count": 52,
   "id": "9966870c-f3c5-4217-af5a-a75faad6e042",
   "metadata": {},
   "outputs": [
    {
     "name": "stdout",
     "output_type": "stream",
     "text": [
      "{'EXP4-BR4_total_quant': 28196570.00528749, 'EXP4-BR3_total_quant': 25498372.99353704, 'EXP1-BR3_total_quant': 40064359.01056108, 'EXP1-BR4_total_quant': 42917634.94320503}\n",
      "{'EXP4-BR4_tRNA': 8099.0, 'EXP4-BR4_rRNA': 26893643.0, 'EXP1-BR4_tRNA': 12202.0, 'EXP1-BR4_rRNA': 40645389.0, 'EXP4-BR3_tRNA': 3374.0, 'EXP4-BR3_rRNA': 24620523.0, 'EXP1-BR3_tRNA': 6988.0, 'EXP1-BR3_rRNA': 38032500.0}\n"
     ]
    }
   ],
   "source": [
    "rootdir = '/home/will_linux/transcription_machinery/kallisto_analysis/'\n",
    "df = pd.DataFrame()\n",
    "CH4_totals = {}\n",
    "CH4_trans = {}\n",
    "meoh_totals = {}\n",
    "meoh_trans = {}\n",
    "meoh_nocop_totals = {}\n",
    "meoh_nocop_trans = {}\n",
    "for subdir, dirs, files in os.walk(rootdir):\n",
    "    if 'EXP' in subdir:\n",
    "        try:\n",
    "            abund = subdir + '/abundance.tsv'\n",
    "            df = pd.read_csv(abund, sep='\\t')\n",
    "            if 'EXP1' in subdir or 'EXP4' in subdir:\n",
    "                if 'total' in subdir:\n",
    "                    CH4_totals[os.path.basename(subdir)] = (sum(df['est_counts']))\n",
    "                else:\n",
    "                    CH4_trans[os.path.basename(subdir)[:9]+'tRNA'] = (sum(df['est_counts'][df['target_id'].str.contains('tRNA')]))\n",
    "                    CH4_trans[os.path.basename(subdir)[:9]+'rRNA'] = (sum(df['est_counts'][df['target_id'].str.contains('rRNA')]))\n",
    "            if 'EXP2' in subdir:\n",
    "                if 'total' in subdir:\n",
    "                    meoh_totals[os.path.basename(subdir)] = (sum(df['est_counts']))\n",
    "                else:\n",
    "                    meoh_trans[os.path.basename(subdir)[:9]+'tRNA'] = (sum(df['est_counts'][df['target_id'].str.contains('tRNA')]))\n",
    "                    meoh_trans[os.path.basename(subdir)[:9]+'rRNA'] = (sum(df['est_counts'][df['target_id'].str.contains('rRNA')]))\n",
    "            if 'EXP3' in subdir:\n",
    "                if 'total' in subdir:\n",
    "                    meoh_nocop_totals[os.path.basename(subdir)] = (sum(df['est_counts']))\n",
    "                else:\n",
    "                    meoh_nocop_trans[os.path.basename(subdir)[:9]+'tRNA'] = (sum(df['est_counts'][df['target_id'].str.contains('tRNA')]))\n",
    "                    meoh_nocop_trans[os.path.basename(subdir)[:9]+'rRNA'] = (sum(df['est_counts'][df['target_id'].str.contains('rRNA')]))\n",
    "        except:\n",
    "            pass\n",
    "print(CH4_totals)\n",
    "print(CH4_trans)"
   ]
  },
  {
   "cell_type": "code",
   "execution_count": 55,
   "id": "63c87a64-a481-4754-b2d5-c37623987cce",
   "metadata": {},
   "outputs": [
    {
     "name": "stdout",
     "output_type": "stream",
     "text": [
      "CH4 Mean rRNA Expression: 0.9539260973542334 | Std Deviation rRNA: 0.008254172565090612\n",
      "CH4 Mean tRNA Expression: 0.00021957177045910838 | Std Deviation tRNA: 7.835952717945208e-05\n",
      "MeOH +Cu Mean rRNA Expression: 0.9603982904253238 | Std Deviation rRNA: 0.0008223247735366535\n",
      "MeOH +Cu Mean tRNA Expression: 0.0002485490424350503 | Std Deviation tRNA: 9.0042104048434e-06\n",
      "MeOH -Cu Mean rRNA Expression: 0.9568069090333997 | Std Deviation rRNA: 0.003290404775023545\n",
      "MeOH -Cu Mean tRNA Expression: 0.00017733126000194508 | Std Deviation tRNA: 3.3702182289121477e-06\n"
     ]
    }
   ],
   "source": [
    "import statistics\n",
    "def cond_stats(totals_dict, trans_dict, cond):\n",
    "    rRNA_percs = []\n",
    "    tRNA_percs = []\n",
    "    for key in totals_dict.keys():\n",
    "        total = totals_dict[key]\n",
    "        trans_rRNA = trans_dict[key[:9]+'rRNA']\n",
    "        trans_tRNA = trans_dict[key[:9]+'tRNA']\n",
    "        rRNA_perc = (trans_rRNA/total)\n",
    "        tRNA_perc = (trans_tRNA/total)\n",
    "        rRNA_percs.append(rRNA_perc)\n",
    "        tRNA_percs.append(tRNA_perc)\n",
    "        \n",
    "    std_dev_rRNA = statistics.stdev(rRNA_percs)\n",
    "    avg_rRNA = statistics.mean(rRNA_percs)\n",
    "\n",
    "    std_dev_tRNA = statistics.stdev(tRNA_percs)\n",
    "    avg_tRNA = statistics.mean(tRNA_percs)\n",
    "    \n",
    "    print(cond +' Mean rRNA Expression: ' + str(avg_rRNA) + ' | Std Deviation rRNA: '+ str(std_dev_rRNA))\n",
    "    print(cond +' Mean tRNA Expression: ' + str(avg_tRNA) + ' | Std Deviation tRNA: '+ str(std_dev_tRNA))\n",
    "\n",
    "cond_stats(CH4_totals,CH4_trans, 'CH4')\n",
    "cond_stats(meoh_totals,meoh_trans, 'MeOH +Cu')\n",
    "cond_stats(meoh_nocop_totals,meoh_nocop_trans, 'MeOH -Cu')"
   ]
  }
 ],
 "metadata": {
  "kernelspec": {
   "display_name": "pandas",
   "language": "python",
   "name": "pandas"
  },
  "language_info": {
   "codemirror_mode": {
    "name": "ipython",
    "version": 3
   },
   "file_extension": ".py",
   "mimetype": "text/x-python",
   "name": "python",
   "nbconvert_exporter": "python",
   "pygments_lexer": "ipython3",
   "version": "3.10.9"
  }
 },
 "nbformat": 4,
 "nbformat_minor": 5
}
