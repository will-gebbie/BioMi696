{
 "cells": [
  {
   "cell_type": "code",
   "execution_count": 1,
   "id": "c3fa81d4-5e0c-4f88-bd0a-4fcc75c91702",
   "metadata": {},
   "outputs": [],
   "source": [
    "import cobra"
   ]
  },
  {
   "cell_type": "code",
   "execution_count": 2,
   "id": "4cf8bc04-3255-4a80-b490-ed1e993ace6c",
   "metadata": {},
   "outputs": [
    {
     "data": {
      "text/html": [
       "<h3>Objective</h3><p>1.0 BOF = 0.15016705520306342</p><h4>Uptake</h4><table border=\"1\" class=\"dataframe\">\n",
       "  <thead>\n",
       "    <tr style=\"text-align: right;\">\n",
       "      <th>Metabolite</th>\n",
       "      <th>Reaction</th>\n",
       "      <th>Flux</th>\n",
       "      <th>C-Number</th>\n",
       "      <th>C-Flux</th>\n",
       "    </tr>\n",
       "  </thead>\n",
       "  <tbody>\n",
       "    <tr>\n",
       "      <td>ca2_e</td>\n",
       "      <td>EX_ca2_e</td>\n",
       "      <td>0.001502</td>\n",
       "      <td>0</td>\n",
       "      <td>0.00%</td>\n",
       "    </tr>\n",
       "    <tr>\n",
       "      <td>ch4_e</td>\n",
       "      <td>EX_ch4_e</td>\n",
       "      <td>11.7</td>\n",
       "      <td>1</td>\n",
       "      <td>100.00%</td>\n",
       "    </tr>\n",
       "    <tr>\n",
       "      <td>cu2_e</td>\n",
       "      <td>EX_cu2_e</td>\n",
       "      <td>0.001502</td>\n",
       "      <td>0</td>\n",
       "      <td>0.00%</td>\n",
       "    </tr>\n",
       "    <tr>\n",
       "      <td>fe2_e</td>\n",
       "      <td>EX_fe2_e</td>\n",
       "      <td>0.000919</td>\n",
       "      <td>0</td>\n",
       "      <td>0.00%</td>\n",
       "    </tr>\n",
       "    <tr>\n",
       "      <td>mg2_e</td>\n",
       "      <td>EX_mg2_e</td>\n",
       "      <td>0.01051</td>\n",
       "      <td>0</td>\n",
       "      <td>0.00%</td>\n",
       "    </tr>\n",
       "    <tr>\n",
       "      <td>no3_e</td>\n",
       "      <td>EX_no3_e</td>\n",
       "      <td>1.019</td>\n",
       "      <td>0</td>\n",
       "      <td>0.00%</td>\n",
       "    </tr>\n",
       "    <tr>\n",
       "      <td>o2_e</td>\n",
       "      <td>EX_o2_e</td>\n",
       "      <td>13.77</td>\n",
       "      <td>0</td>\n",
       "      <td>0.00%</td>\n",
       "    </tr>\n",
       "    <tr>\n",
       "      <td>pi_e</td>\n",
       "      <td>EX_pi_e</td>\n",
       "      <td>0.1608</td>\n",
       "      <td>0</td>\n",
       "      <td>0.00%</td>\n",
       "    </tr>\n",
       "    <tr>\n",
       "      <td>so4_e</td>\n",
       "      <td>EX_so4_e</td>\n",
       "      <td>0.01772</td>\n",
       "      <td>0</td>\n",
       "      <td>0.00%</td>\n",
       "    </tr>\n",
       "  </tbody>\n",
       "</table><h4>Secretion</h4><table border=\"1\" class=\"dataframe\">\n",
       "  <thead>\n",
       "    <tr style=\"text-align: right;\">\n",
       "      <th>Metabolite</th>\n",
       "      <th>Reaction</th>\n",
       "      <th>Flux</th>\n",
       "      <th>C-Number</th>\n",
       "      <th>C-Flux</th>\n",
       "    </tr>\n",
       "  </thead>\n",
       "  <tbody>\n",
       "    <tr>\n",
       "      <td>co2_c</td>\n",
       "      <td>EX_CO2</td>\n",
       "      <td>-5.024</td>\n",
       "      <td>1</td>\n",
       "      <td>100.00%</td>\n",
       "    </tr>\n",
       "    <tr>\n",
       "      <td>h2o_e</td>\n",
       "      <td>EX_h2o_e</td>\n",
       "      <td>-9.543</td>\n",
       "      <td>0</td>\n",
       "      <td>0.00%</td>\n",
       "    </tr>\n",
       "    <tr>\n",
       "      <td>h_c</td>\n",
       "      <td>EX_h_c</td>\n",
       "      <td>-1.205</td>\n",
       "      <td>0</td>\n",
       "      <td>0.00%</td>\n",
       "    </tr>\n",
       "  </tbody>\n",
       "</table>"
      ],
      "text/plain": [
       "<cobra.summary.model_summary.ModelSummary at 0x7fc4ae95cc90>"
      ]
     },
     "execution_count": 2,
     "metadata": {},
     "output_type": "execute_result"
    }
   ],
   "source": [
    "cobra_model = cobra.io.read_sbml_model('W_La_Ca_iIA409_20Z.xml')\n",
    "cobra_model.summary()"
   ]
  },
  {
   "cell_type": "markdown",
   "id": "4ffb8c53-a797-477d-9bf5-c6ccdee3e25a",
   "metadata": {},
   "source": [
    "## Psilocybin Pathway Addition"
   ]
  },
  {
   "cell_type": "code",
   "execution_count": 3,
   "id": "5ff03dd2-7c25-458d-aa7b-beafba4eeeb6",
   "metadata": {},
   "outputs": [],
   "source": [
    "# PsiD\n",
    "r_psiD = cobra.Reaction(\"TRPDC\")\n",
    "r_psiD.name = \"L-tryptophan decarboxylase\"\n",
    "r_psiD.subsystem = \"Tryptophan Metabolism\"\n",
    "r_psiD.lower_bound = 0\n",
    "r_psiD.upper_bound = 1000\n",
    "\n",
    "trpmine = cobra.Metabolite(\n",
    "    'trpmine_c',\n",
    "    formula='C10H12N2',\n",
    "    name='Tryptamine',\n",
    "    compartment='c')\n",
    "\n",
    "ltrp = cobra_model.metabolites.get_by_id(\"ltrp_c\")\n",
    "co2_c = cobra_model.metabolites.get_by_id(\"co2_c\")\n",
    "\n",
    "r_psiD.add_metabolites({\n",
    "    ltrp: -1.0,\n",
    "    trpmine: 1.0,\n",
    "    co2_c: 1.0\n",
    "})"
   ]
  },
  {
   "cell_type": "code",
   "execution_count": 4,
   "id": "3e7ef12d-4e55-4e62-9c07-85021d72ccc8",
   "metadata": {},
   "outputs": [],
   "source": [
    "# PsiH\n",
    "r_psiH = cobra.Reaction(\"TRPMINE4MO\")\n",
    "r_psiH.name = \"Tryptamine 4-monooxygenase\"\n",
    "r_psiH.subsystem = \"Tryptophan Metabolism\"\n",
    "r_psiH.lower_bound = 0\n",
    "r_psiH.upper_bound = 1000\n",
    "\n",
    "htrpmine = cobra.Metabolite(\n",
    "    'htrpmine_c',\n",
    "    formula='C10H12N2O',\n",
    "    name='4-Hydroxytryptamine',\n",
    "    compartment='c')\n",
    "\n",
    "o2_c = cobra_model.metabolites.get_by_id(\"o2_c\")\n",
    "h2o_c = cobra_model.metabolites.get_by_id(\"h2o_c\")\n",
    "elacrd_c = cobra_model.metabolites.get_by_id(\"elacrd_c\")\n",
    "elaco_c = cobra_model.metabolites.get_by_id(\"elaco_c\")\n",
    "\n",
    "\n",
    "r_psiH.add_metabolites({\n",
    "    trpmine: -1.0,\n",
    "    elacrd_c: -1.0,\n",
    "    o2_c: -1.0,\n",
    "    htrpmine: 1.0,\n",
    "    elaco_c: 1.0,\n",
    "    h2o_c: 1.0\n",
    "})\n"
   ]
  },
  {
   "cell_type": "code",
   "execution_count": 5,
   "id": "d3a50164-e732-44b4-a265-89bf228fd0ea",
   "metadata": {},
   "outputs": [],
   "source": [
    "# PsiK\n",
    "r_psiK1 = cobra.Reaction(\"4HTRPMINEK\")\n",
    "r_psiK1.name = \"4-hydroxytryptamine kinase\"\n",
    "r_psiK1.subsystem = \"Tryptophan Metabolism\"\n",
    "r_psiK1.lower_bound = 0\n",
    "r_psiK1.upper_bound = 1000\n",
    "\n",
    "nbaecys = cobra.Metabolite(\n",
    "    'nbaecys_c',\n",
    "    formula='C10H13N2O4P',\n",
    "    name='Norbaeocystin',\n",
    "    compartment='c')\n",
    "\n",
    "atp_c = cobra_model.metabolites.get_by_id(\"atp_c\")\n",
    "adp_c = cobra_model.metabolites.get_by_id(\"adp_c\")\n",
    "\n",
    "r_psiK1.add_metabolites({\n",
    "    atp_c: -1.0,\n",
    "    htrpmine: -1.0,\n",
    "    adp_c: 1.0,\n",
    "    nbaecys: 1.0\n",
    "})\n",
    "\n"
   ]
  },
  {
   "cell_type": "code",
   "execution_count": 6,
   "id": "7e403add-15b4-425c-b9e9-7266448e0d59",
   "metadata": {},
   "outputs": [],
   "source": [
    "# PsiM\n",
    "r_psiM1 = cobra.Reaction(\"PSIBINS1\")\n",
    "r_psiM1.name = \"SAM:Norbaeocystin N-methyltransferase\"\n",
    "r_psiM1.subsystem = \"Tryptophan Metabolism\"\n",
    "r_psiM1.lower_bound = 0\n",
    "r_psiM1.upper_bound = 1000\n",
    "\n",
    "baecys = cobra.Metabolite(\n",
    "    'baecys_c',\n",
    "    formula='C11H15N2O4P',\n",
    "    name='Baeocystin',\n",
    "    compartment='c')\n",
    "\n",
    "amet_c = cobra_model.metabolites.get_by_id(\"amet_c\")\n",
    "ahcys_c = cobra_model.metabolites.get_by_id(\"ahcys_c\")\n",
    "\n",
    "r_psiM1.add_metabolites({\n",
    "    amet_c: -1.0,\n",
    "    nbaecys: -1.0,\n",
    "    ahcys_c: 1.0,\n",
    "    baecys: 1.0\n",
    "})\n",
    "\n",
    "r_psiM2 = cobra.Reaction(\"PSIBINS2\")\n",
    "r_psiM2.name = \"Psilocybin Synthase\"\n",
    "r_psiM2.subsystem = \"Tryptophan Metabolism\"\n",
    "r_psiM2.lower_bound = 0\n",
    "r_psiM2.upper_bound = 1000\n",
    "\n",
    "psibin = cobra.Metabolite(\n",
    "    'psibin_c',\n",
    "    formula='C12H17N2O4P',\n",
    "    name='Psilocybin',\n",
    "    compartment='c')\n",
    "\n",
    "r_psiM2.add_metabolites({\n",
    "    amet_c: -1.0,\n",
    "    baecys: -1.0,\n",
    "    ahcys_c: 1.0,\n",
    "    psibin: 1.0\n",
    "})\n"
   ]
  },
  {
   "cell_type": "code",
   "execution_count": 7,
   "id": "caca1b47-99d1-4e2d-b995-43a9fab8f4d1",
   "metadata": {},
   "outputs": [
    {
     "data": {
      "text/html": [
       "\n",
       "        <table>\n",
       "            <tr>\n",
       "                <td><strong>Reaction identifier</strong></td><td>DM_psibin_c</td>\n",
       "            </tr><tr>\n",
       "                <td><strong>Name</strong></td><td>Psilocybin demand</td>\n",
       "            </tr><tr>\n",
       "                <td><strong>Memory address</strong></td>\n",
       "                <td>0x7fc4ad570f50</td>\n",
       "            </tr><tr>\n",
       "                <td><strong>Stoichiometry</strong></td>\n",
       "                <td>\n",
       "                    <p style='text-align:right'>psibin_c --></p>\n",
       "                    <p style='text-align:right'>Psilocybin --></p>\n",
       "                </td>\n",
       "            </tr><tr>\n",
       "                <td><strong>GPR</strong></td><td></td>\n",
       "            </tr><tr>\n",
       "                <td><strong>Lower bound</strong></td><td>0</td>\n",
       "            </tr><tr>\n",
       "                <td><strong>Upper bound</strong></td><td>1000.0</td>\n",
       "            </tr>\n",
       "        </table>\n",
       "        "
      ],
      "text/plain": [
       "<Reaction DM_psibin_c at 0x7fc4ad570f50>"
      ]
     },
     "execution_count": 7,
     "metadata": {},
     "output_type": "execute_result"
    }
   ],
   "source": [
    "cobra_model.add_reactions([r_psiD,r_psiH,r_psiK1,r_psiM1,r_psiM2])\n",
    "cobra_model.add_boundary(cobra_model.metabolites.get_by_id(\"psibin_c\"),type=\"demand\")"
   ]
  },
  {
   "cell_type": "code",
   "execution_count": 8,
   "id": "e8307c9b-5107-4426-83bc-4b83a5c3f25a",
   "metadata": {},
   "outputs": [
    {
     "data": {
      "text/html": [
       "<h3>ltrp_c</h3><p>C11H12N2O2</p><h4>Producing Reactions</h4><table border=\"1\" class=\"dataframe\">\n",
       "  <thead>\n",
       "    <tr style=\"text-align: right;\">\n",
       "      <th>Percent</th>\n",
       "      <th>Flux</th>\n",
       "      <th>Reaction</th>\n",
       "      <th>Definition</th>\n",
       "    </tr>\n",
       "  </thead>\n",
       "  <tbody>\n",
       "    <tr>\n",
       "      <td>100.00%</td>\n",
       "      <td>0.5847</td>\n",
       "      <td>TRPS1</td>\n",
       "      <td>3ig3p_c + lser_c --&gt; g3p_c + h2o_c + ltrp_c</td>\n",
       "    </tr>\n",
       "  </tbody>\n",
       "</table><h4>Consuming Reactions</h4><table border=\"1\" class=\"dataframe\">\n",
       "  <thead>\n",
       "    <tr style=\"text-align: right;\">\n",
       "      <th>Percent</th>\n",
       "      <th>Flux</th>\n",
       "      <th>Reaction</th>\n",
       "      <th>Definition</th>\n",
       "    </tr>\n",
       "  </thead>\n",
       "  <tbody>\n",
       "    <tr>\n",
       "      <td>100.00%</td>\n",
       "      <td>-0.5847</td>\n",
       "      <td>TRPDC</td>\n",
       "      <td>ltrp_c --&gt; co2_c + trpmine_c</td>\n",
       "    </tr>\n",
       "  </tbody>\n",
       "</table>"
      ],
      "text/plain": [
       "<cobra.summary.metabolite_summary.MetaboliteSummary at 0x7fc4ad8e4cd0>"
      ]
     },
     "execution_count": 8,
     "metadata": {},
     "output_type": "execute_result"
    }
   ],
   "source": [
    "cobra_model.objective = 'PSIBINS2'\n",
    "cobra_model.metabolites.get_by_id('ltrp_c').summary()"
   ]
  },
  {
   "cell_type": "code",
   "execution_count": 9,
   "id": "116723cd-5701-4efb-874c-c9de057b19f5",
   "metadata": {},
   "outputs": [
    {
     "name": "stdout",
     "output_type": "stream",
     "text": [
      "TRPDC: ltrp_c --> co2_c + trpmine_c\n",
      "TRPMINE4MO: elacrd_c + o2_c + trpmine_c --> elaco_c + h2o_c + htrpmine_c\n",
      "4HTRPMINEK: atp_c + htrpmine_c --> adp_c + nbaecys_c\n",
      "PSIBINS1: amet_c + nbaecys_c --> ahcys_c + baecys_c\n",
      "PSIBINS2: amet_c + baecys_c --> ahcys_c + psibin_c\n"
     ]
    }
   ],
   "source": [
    "for r in cobra_model.reactions:\n",
    "    if r.subsystem == 'Tryptophan Metabolism':\n",
    "        print(r)"
   ]
  },
  {
   "cell_type": "code",
   "execution_count": 10,
   "id": "878499fb-2c80-4e0e-a0a2-172ded2f4f64",
   "metadata": {},
   "outputs": [
    {
     "data": {
      "text/plain": [
       "0.5846639862147948"
      ]
     },
     "execution_count": 10,
     "metadata": {},
     "output_type": "execute_result"
    }
   ],
   "source": [
    "cobra_model.reactions.PSIBINS2.flux"
   ]
  },
  {
   "cell_type": "code",
   "execution_count": null,
   "id": "3e53ba5b-f229-4bb4-baa0-53007e6991ad",
   "metadata": {},
   "outputs": [],
   "source": []
  }
 ],
 "metadata": {
  "kernelspec": {
   "display_name": "cobra",
   "language": "python",
   "name": "cobra"
  },
  "language_info": {
   "codemirror_mode": {
    "name": "ipython",
    "version": 3
   },
   "file_extension": ".py",
   "mimetype": "text/x-python",
   "name": "python",
   "nbconvert_exporter": "python",
   "pygments_lexer": "ipython3",
   "version": "3.11.4"
  }
 },
 "nbformat": 4,
 "nbformat_minor": 5
}
